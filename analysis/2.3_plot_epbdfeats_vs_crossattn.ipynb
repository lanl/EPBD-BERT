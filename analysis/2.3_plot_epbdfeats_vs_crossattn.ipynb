{
 "cells": [
  {
   "cell_type": "code",
   "execution_count": 14,
   "metadata": {},
   "outputs": [],
   "source": [
    "import os\n",
    "import sys\n",
    "home_dir = \"../\"\n",
    "module_path = os.path.abspath(os.path.join(home_dir))\n",
    "if module_path not in sys.path:\n",
    "    sys.path.append(module_path)\n",
    "\n",
    "import subprocess\n",
    "import numpy as np\n",
    "import pandas as pd\n",
    "import torch\n",
    "\n",
    "import matplotlib.pyplot as plt\n",
    "import seaborn as sns\n",
    "import utility.pickle_utils as pickle_utils"
   ]
  },
  {
   "cell_type": "markdown",
   "metadata": {},
   "source": [
    "#### Plotting seq_region, epbd_feat and cross_attn_weights"
   ]
  },
  {
   "cell_type": "code",
   "execution_count": 15,
   "metadata": {},
   "outputs": [],
   "source": [
    "# the following two are best and worst case according to dnabert2epbdVSdnabert2_percent and dnabert2epbdVSdnabert2_relative by auroc metric\n",
    "# best case: wgEncodeAwgTfbsSydhHepg2Mafksc477IggrabUniPk\n",
    "# worst case: wgEncodeAwgTfbsSydhHelas3Bdp1UniPk\n",
    "# good case: wgEncodeAwgTfbsUtaA549CtcfUniPk\n",
    "# bad case: wgEncodeAwgTfbsSydhHelas3Znf274UcdUniPk\n",
    "\n",
    "label=\"wgEncodeAwgTfbsUtaA549CtcfUniPk\" # wgEncodeAwgTfbsUtaA549CtcfUniPk, wgEncodeAwgTfbsBroadGm12878Ezh239875UniPk\n",
    "out_plots_dir = home_dir+f\"analysis/figures/epbd_vs_crossattn_overlaying_plots/{label}/\"\n",
    "os.makedirs(out_plots_dir, exist_ok=True)"
   ]
  },
  {
   "cell_type": "code",
   "execution_count": 16,
   "metadata": {},
   "outputs": [
    {
     "name": "stdout",
     "output_type": "stream",
     "text": [
      "4797\n",
      "(4797, 3)\n"
     ]
    }
   ],
   "source": [
    "crossattn_weights_list = pickle_utils.load(home_dir+f\"analysis/weights/690_label_specific/{label}_crossattn_weights_list.pkl\")\n",
    "print(len(crossattn_weights_list))\n",
    "\n",
    "data_df = pd.read_csv(home_dir+\"data/train_val_test/peaks_with_labels_test.tsv.gz\", compression=\"gzip\", sep=\"\\t\")\n",
    "data_df = data_df[data_df[\"labels\"].apply(lambda x: label in x)]\n",
    "data_df.reset_index(drop=True, inplace=True)\n",
    "data_df.drop(columns=[\"n_labels\", \"labels\"], inplace=True)\n",
    "data_df.to_csv(home_dir+\"analysis/temp/x.sorted\", index=False, header=False, sep=\"\\t\")\n",
    "print(data_df.shape)"
   ]
  },
  {
   "cell_type": "code",
   "execution_count": 17,
   "metadata": {},
   "outputs": [
    {
     "data": {
      "text/plain": [
       "0"
      ]
     },
     "execution_count": 17,
     "metadata": {},
     "output_type": "execute_result"
    }
   ],
   "source": [
    "cmd = f\"../bedtools/bedtools intersect -a temp/x.sorted -b ../data/processed/wgEncodeAwgTfbsUniform_sorted/{label}.narrowPeak.sorted.gz -wo -f .5 -sorted > temp/x.bindingregions.sorted\"\n",
    "subprocess.call(cmd, shell=True)"
   ]
  },
  {
   "cell_type": "code",
   "execution_count": 18,
   "metadata": {},
   "outputs": [
    {
     "data": {
      "text/plain": [
       "(4797, 14)"
      ]
     },
     "execution_count": 18,
     "metadata": {},
     "output_type": "execute_result"
    }
   ],
   "source": [
    "col_names = [\"genomeChrom\", \"genomeChromStart\", \"genomeChromEnd\", \"chrom\", \"chromStart\", \"chromEnd\", \"name\", \"score\", \"strand\", \"signalValue\", \"pValue\", \"qValue\", \"peak\", \"intersectedBps\"] \n",
    "data_with_bindingregions_df = pd.read_csv(home_dir+\"analysis/temp/x.bindingregions.sorted\", sep=\"\\t\", names=col_names)\n",
    "data_with_bindingregions_df.shape\n",
    "data_with_bindingregions_df.drop_duplicates(subset=[\"genomeChrom\", \"genomeChromStart\", \"genomeChromEnd\"], keep=\"first\", ignore_index=True, inplace=True) # # dropping chromosomal coordinate duplicates with overlapping, because some may have multiple overlapping\n",
    "data_with_bindingregions_df.shape"
   ]
  },
  {
   "cell_type": "code",
   "execution_count": 19,
   "metadata": {},
   "outputs": [],
   "source": [
    "seq_dict = pickle_utils.load(home_dir+\"data/processed/seq_with_flanks_dict.pkl\")"
   ]
  },
  {
   "cell_type": "code",
   "execution_count": 20,
   "metadata": {},
   "outputs": [],
   "source": [
    "def get_epbd_features(fname):\n",
    "    fpath = home_dir+\"data/pydnaepbd_things/features/id_seqs/\"+fname\n",
    "    data = pickle_utils.load(fpath)\n",
    "    \n",
    "    # coord and flip features\n",
    "    coord = np.expand_dims(data[\"coord\"], axis=0)\n",
    "    flips = np.transpose(data[\"flip_verbose\"])\n",
    "    epbd_features = np.concatenate([coord, flips], axis=0) / 80000\n",
    "    epbd_features = torch.tensor(epbd_features, dtype=torch.float32)\n",
    "    # print(epbd_features.shape) # [6, 200]\n",
    "    return epbd_features"
   ]
  },
  {
   "cell_type": "code",
   "execution_count": 21,
   "metadata": {},
   "outputs": [],
   "source": [
    "# conved_epbd_features_list = pickle_utils.load(home_dir+f\"analysis/conved_epbd_features_list/{label}.pkl\")\n",
    "# def get_conved_epbd_features(i):\n",
    "#     return conved_epbd_features_list[i] #np array of  suze 200\n",
    "\n",
    "# # get_conved_epbd_features(0)"
   ]
  },
  {
   "cell_type": "code",
   "execution_count": 22,
   "metadata": {},
   "outputs": [],
   "source": [
    "from utility.dnabert2 import get_dnabert2_tokenizer\n",
    "tokenizer = get_dnabert2_tokenizer(max_num_tokens=512, home_dir=home_dir)\n",
    "# print(tokenizer)\n",
    "def get_start_end(seq):\n",
    "    toked = tokenizer(\n",
    "                seq,\n",
    "                return_tensors=\"pt\",\n",
    "                padding=\"longest\",\n",
    "                max_length=512,\n",
    "                truncation=True,\n",
    "            )\n",
    "    # print(toked[\"input_ids\"][0])\n",
    "    toked_seq_list= tokenizer.decode(toked[\"input_ids\"][0]).split()\n",
    "    cum_len = 0\n",
    "    start_token_no, end_token_no = -1, -1\n",
    "    start_nuc_pos_in_token, end_nuc_pos_in_token = -1, -1\n",
    "    s = [] # this will store the middle 200 nuc based as toked\n",
    "    for i in range(1, len(toked_seq_list)-1): # 1st is the cls token\n",
    "        # print(toked_seq_list[i])\n",
    "        cum_len += len(toked_seq_list[i])\n",
    "        \n",
    "        if cum_len>=400 and cum_len<=599:\n",
    "            # print(i, cum_len, toked_seq_list[i])\n",
    "            if start_token_no==-1: \n",
    "                start_token_no = i\n",
    "                start_nuc_pos_in_token =  len(toked_seq_list[i]) - (cum_len - 400)\n",
    "                s.append(toked_seq_list[i][start_nuc_pos_in_token:])\n",
    "                # print(start_nuc_pos_in_token, toked_seq_list[i], \"\".join(s))\n",
    "                # break\n",
    "            \n",
    "            else:\n",
    "                s.append(toked_seq_list[i])\n",
    "            # break\n",
    "        \n",
    "        elif cum_len>=600:\n",
    "            end_token_no = i+1\n",
    "            end_nuc_pos_in_token = len(toked_seq_list[i]) - (cum_len - 600)\n",
    "            s.append(toked_seq_list[i][:end_nuc_pos_in_token])\n",
    "            # print(i, cum_len, toked_seq_list[i], toked_seq_list[i][:end_nuc_pos_in_token], len(\"\".join(s)))\n",
    "            break\n",
    "      \n",
    "    \n",
    "    print(start_token_no, start_nuc_pos_in_token, end_token_no, end_nuc_pos_in_token, len(\"\".join(s)), len(s), end_token_no-start_token_no)\n",
    "    return start_token_no, start_nuc_pos_in_token, end_token_no, end_nuc_pos_in_token, s\n",
    "\n",
    "# seq = \"GGAATGGCTCATGGGCCTTTACCTCCTCTGAGTGGTTTTTCTCCTGACAGGGGACACTTTGCATTGATCCCTGAAGCAGTTCCACTCCTCAAGGCAGCCTTCTGTGGCTCCCTGGACTGTGCTCCTTCAGAGGAAGACCTCCAGACCTCAGCTTCTTCCTGTATGACATGAGGGAGGCTGGCATTTATACACTCATTAAAAATTCATATTTTAAAGCATTTTCCAGCAAATCCACCCCCAGAAGAGAACAATTTTTCTGCGTCTCCCGAACCAATTATTCAATAGTGCGCTGTGATACCCACCCAGCGCAGGCTGGAGACAAGATGGGGTGTGGACTCTCGGGAGGCGGCGACTCCAGGCGTCCACCAGAGCGGGGCTTACGGTCCCCGAGGCGGCGCGGCTGAAGAGTTGGTTTAGGTTTAATGAGAAACAACTTGGCAAATCTGAAAAACAATAGTTGGGAAAAGTGTTAAAAAAGACCAAGCCCAGGAGCTTAAGACAAAATCTGGCAGTTCCCTCCCGCGGCCGCCAGGGGTCAGTGCGCACCTGAGGAGGGGGAGGCCCGGGATCGGCGAGCGCCTGAGGAGGGAGGGTCCGGGGGTCACTGCGCACCTGCGGAGGTGGGGGCGGCCAGGGTCAGTGTCCCCCTGGGGAGGGGGGGTCAGGGGGTCAGCCTTCACCTGAGGAGGGGGCGGCCAGGGTCCGTGCCCACCTGAGGAGGGGGGTTCAGGGGGTCAGCCTTCACCTGCGGAGGTGGGGGCGGCCAGGGTCAGTGTCCACCTGGGGGGGGGTTAGGGGGTCAGCCTTCACCTGCGGAGGTGGGGGCGGCCAGGGTCAGTGTCCACCTGGGGGGGGGTCAGGGGGTCAGCCTTCACCTGAGGAGGTGGGGGCAGCCAGGGTCCGTGTCCACCTGGGGGGGGGTCAGGGGGTCAGCCTTCACCTGAGGAGGGGGCGGCCGGCGGTCAGTGCGCACCTGAAGAGGGGGAGGCCCGGGGTCAGG\"\n",
    "# i, j,k, l, x = get_start_end(seq)"
   ]
  },
  {
   "cell_type": "code",
   "execution_count": 23,
   "metadata": {},
   "outputs": [],
   "source": [
    "def normalize_data(data):\n",
    "    return (data - np.min(data)) / (np.max(data) - np.min(data))"
   ]
  },
  {
   "cell_type": "code",
   "execution_count": 24,
   "metadata": {},
   "outputs": [
    {
     "name": "stdout",
     "output_type": "stream",
     "text": [
      "73 6 112 3 200 39 39\n",
      "torch.Size([6, 200]) (200,)\n",
      "-0.45063780574566414 2.1450961604527518e-11 -0.6057201231665307 2.056310018387151e-21\n",
      "83 2 126 4 200 43 43\n",
      "torch.Size([6, 200]) (200,)\n",
      "-0.5824682660170387 1.4658195189821448e-19 -0.6141923706309418 3.9767132389856045e-22\n",
      "80 6 119 4 200 39 39\n",
      "torch.Size([6, 200]) (200,)\n",
      "-0.4483599965319617 2.778975606603125e-11 -0.6333320498631422 8.047096932474764e-24\n",
      "79 3 121 4 200 42 42\n",
      "torch.Size([6, 200]) (200,)\n",
      "-0.6293736768148676 1.8434821732334806e-23 -0.62862339041463 2.1542291141884762e-23\n",
      "81 4 122 2 200 41 41\n",
      "torch.Size([6, 200]) (200,)\n",
      "-0.3974309731579406 5.6400098505489925e-09 -0.47669246355155476 9.646756898061418e-13\n",
      "78 6 119 5 200 41 41\n",
      "torch.Size([6, 200]) (200,)\n",
      "-0.05255292393415132 0.45986874130117233 -0.04622409842927209 0.5157196494313887\n",
      "78 5 120 4 200 42 42\n",
      "torch.Size([6, 200]) (200,)\n",
      "-0.26315095375424524 0.00016670827148931224 0.004648736002793895 0.9479102005961889\n",
      "83 1 124 4 200 41 41\n",
      "torch.Size([6, 200]) (200,)\n",
      "-0.2562390161629958 0.00024987405289676946 -0.30166707706175916 1.4181137301498853e-05\n",
      "86 2 127 1 200 41 41\n",
      "torch.Size([6, 200]) (200,)\n",
      "-0.4539398302467849 1.4688117448552544e-11 -0.43278558580850535 1.5514615318439603e-10\n"
     ]
    },
    {
     "name": "stdout",
     "output_type": "stream",
     "text": [
      "79 3 121 1 200 42 42\n",
      "torch.Size([6, 200]) (200,)\n",
      "-0.4438088463358542 4.6351206937336777e-11 -0.42139435606418263 5.169646885688731e-10\n",
      "76 2 118 1 200 42 42\n",
      "torch.Size([6, 200]) (200,)\n",
      "-0.137852524073742 0.05158114206770013 -0.2993232906258388 1.6648199261609133e-05\n",
      "77 4 118 1 200 41 41\n",
      "torch.Size([6, 200]) (200,)\n",
      "-0.40235120663412366 3.5061872998831217e-09 -0.47922663764293905 7.033618784339419e-13\n",
      "81 2 123 7 200 42 42\n",
      "torch.Size([6, 200]) (200,)\n",
      "-0.40632125712972395 2.375694513283159e-09 -0.46915587192351016 2.4311587693777e-12\n",
      "77 6 119 4 200 42 42\n",
      "torch.Size([6, 200]) (200,)\n",
      "-0.5930112627975237 2.2100525869943672e-20 -0.6935028975128545 5.1965746744045845e-30\n",
      "79 1 125 3 200 46 46\n",
      "torch.Size([6, 200]) (200,)\n",
      "-0.5243375014801817 1.6051724166400873e-15 -0.543159614120793 9.603869604714506e-17\n",
      "81 1 122 6 200 41 41\n",
      "torch.Size([6, 200]) (200,)\n",
      "-0.6176802956119255 1.9927900921158537e-22 -0.5882665763605476 5.222587184273231e-20\n",
      "83 4 127 2 200 44 44\n",
      "torch.Size([6, 200]) (200,)\n",
      "0.34234296181090357 6.981910798783425e-07 0.19596702095922686 0.005418543050873663\n",
      "82 7 123 2 200 41 41\n",
      "torch.Size([6, 200]) (200,)\n",
      "-0.3679415094059924 8.318055414102013e-08 -0.4974038171496185 6.748859438493074e-14\n",
      "80 2 121 2 200 41 41\n",
      "torch.Size([6, 200]) (200,)\n",
      "0.08703891418369569 0.22037639173727488 0.22992664779195754 0.0010556267676377303\n",
      "81 4 126 1 200 45 45\n",
      "torch.Size([6, 200]) (200,)\n",
      "0.13197382361556664 0.06248345200816664 0.16359504642111686 0.020629457131504724\n",
      "-0.3233051073112276 -0.3568266384575763\n",
      "-0.4043362318819238 -0.47292416773753243\n"
     ]
    },
    {
     "data": {
      "image/png": "[encoded data removed]",
      "text/plain": [
       "<Figure size 640x480 with 1 Axes>"
      ]
     },
     "metadata": {},
     "output_type": "display_data"
    }
   ],
   "source": [
    "from scipy.interpolate import interp1d, make_interp_spline\n",
    "from scipy.stats import pearsonr, spearmanr\n",
    "\n",
    "avg_crossattn_w = []\n",
    "pearson_corrs, spearmanr_corrs = [], []\n",
    "for i in range(data_with_bindingregions_df.shape[0]):\n",
    "    plt.cla()\n",
    "    x = data_with_bindingregions_df.loc[i]\n",
    "    chrom, start, end = x[\"genomeChrom\"], int(x[\"genomeChromStart\"]), int(x[\"genomeChromEnd\"])\n",
    "    seq_id = f\"{chrom}_{str(start)}_{str(end)}\"\n",
    "    seq = seq_dict[seq_id]\n",
    "    # print(seq)\n",
    "    \n",
    "    # putting the binding regions into the genone regions (200 bps)\n",
    "    abs_reg_start =  int(x[\"genomeChromStart\"])  if int(x[\"chromStart\"]) < int(x[\"genomeChromStart\"]) else int(x[\"chromStart\"])\n",
    "    abs_reg_end = int(x[\"genomeChromEnd\"]) if int(x[\"chromEnd\"]) > int(x[\"genomeChromEnd\"]) else int(x[\"chromEnd\"])\n",
    "    # print(abs_reg_start, abs_reg_end, abs_reg_end-abs_reg_start)\n",
    "    \n",
    "    # putting into string abs position\n",
    "    abs_reg_start = abs_reg_start - int(x[\"genomeChromStart\"])\n",
    "    abs_reg_end = abs_reg_end - int(x[\"genomeChromStart\"])\n",
    "    # print(abs_reg_start, abs_reg_end, abs_reg_end-abs_reg_start)\n",
    "    \n",
    "    \n",
    "    # plotting raw epbd features\n",
    "    epbd_features = get_epbd_features(f\"{seq_id}.pkl\")\n",
    "    # print(cross_attn_w.shape, epbd_features.shape)\n",
    "    data1 = np.array(epbd_features[4])\n",
    "    data1 = normalize_data(data1)\n",
    "    # plt.plot(range(epbd_features.shape[1]), data1, label=\"EPBD-features (flip)\")\n",
    "    # plt.show()\n",
    "    \n",
    "    \n",
    "    \n",
    "    # print(tok_start, tok_end, toked_seq[tok_start:tok_end])\n",
    "    cross_attn_w = crossattn_weights_list[i]\n",
    "    # print(np.mean(cross_attn_w, axis=0, keepdims=True).shape)\n",
    "    avg_crossattn_w.append(torch.tensor(np.mean(cross_attn_w, axis=0)))\n",
    "    temp_avg_crossattn_w = np.mean(cross_attn_w, axis=0)\n",
    "    # print(temp_avg_crossattn_w.shape)\n",
    "    \n",
    "    start_token_no, start_nuc_pos_in_token, end_token_no, end_nuc_pos_in_token, toked_seq = get_start_end(seq)\n",
    "    x = []\n",
    "    for k, j in enumerate(range(start_token_no, end_token_no)):\n",
    "        # print(toked_seq[i])\n",
    "        for b in toked_seq[k]:\n",
    "            x.append(temp_avg_crossattn_w[j])\n",
    "        # break\n",
    "    # print(len(x))\n",
    "    data2 = normalize_data(np.array(x))\n",
    "    # print(data2.shape)\n",
    "    # plt.plot(range(data2.shape[0]), data2, label=\"Cross-attention weights\")\n",
    "\n",
    "    # this saves the epbd_features and avg_crossattn of the i-th item\n",
    "    # os.makedirs(home_dir+f\"analysis/crossattn_and_epbdfeats_pairs/{label}/\", exist_ok=True)\n",
    "    # pickle_utils.save(epbd_features, home_dir+f\"analysis/crossattn_and_epbdfeats_pairs/{label}/{i}_epbdfeats.pkl\")\n",
    "    # pickle_utils.save(data2, home_dir+f\"analysis/crossattn_and_epbdfeats_pairs/{label}/{i}_avg_crossattn.pkl\")\n",
    "    # print(epbd_features.shape, data2.shape)\n",
    "    \n",
    "    \n",
    "    # data3 = normalize_data(get_conved_epbd_features(i))\n",
    "    # plt.plot(range(data3.shape[0]), data3, label=\"EPBD-features (conv)\")\n",
    "    \n",
    "    pearson_corr, p_pvalue = pearsonr(data1, data2)\n",
    "    spearmanr_corr, s_pvalue = spearmanr(data1, data2)\n",
    "    print(pearson_corr, p_pvalue, spearmanr_corr, s_pvalue)\n",
    "    \n",
    "    \n",
    "    # # plotting smoother version of the above data\n",
    "    # x = np.array(range(data2.shape[0]))\n",
    "    # y = np.copy(data2)\n",
    "    # interpolated_points = interp1d(x, y, kind = \"cubic\") # or the following line\n",
    "    # # interpolated_points = make_interp_spline(x, y)\n",
    "    # X2_=np.linspace(x.min(), x.max(), 30)\n",
    "    # Y2_=interpolated_points(X2_)\n",
    "    # plt.plot(X2_, Y2_, label=\"Cross-attention weights (smooth)\")\n",
    "    \n",
    "    # x = np.array(range(data1.shape[0]))\n",
    "    # y = np.copy(data1)\n",
    "    # interpolated_points = interp1d(x, y, kind = \"cubic\") # or the following line\n",
    "    # # interpolated_points = make_interp_spline(x, y)\n",
    "    # X1_=np.linspace(x.min(), x.max(), 30)\n",
    "    # Y1_=interpolated_points(X1_)\n",
    "    # plt.plot(X1_, Y1_, label=\"EPBD-features (flip)\")\n",
    "    \n",
    "    # pearson_corr, p_pvalue = pearsonr(Y1_, Y2_)\n",
    "    # spearmanr_corr, s_pvalue = spearmanr(Y1_, Y2_)\n",
    "    # print(pearson_corr, p_pvalue, spearmanr_corr, s_pvalue)\n",
    "    \n",
    "    \n",
    "    # plt.legend()\n",
    "    # plt.savefig(out_plots_dir+f\"{i}.png\", dpi=300, format=\"png\", bbox_inches='tight', pad_inches=.05)\n",
    "    # plt.show()\n",
    "    \n",
    "    pearson_corrs.append(pearson_corr), spearmanr_corrs.append(spearmanr_corr)\n",
    "    if i+1==10: break\n",
    "    # break\n",
    "\n",
    "\n",
    "print(np.array(pearson_corrs).mean(), np.array(spearmanr_corrs).mean())\n",
    "print(np.median(np.array(pearson_corrs)), np.median(np.array(spearmanr_corrs)))"
   ]
  }
 ],
 "metadata": {
  "kernelspec": {
   "display_name": "Python 3",
   "language": "python",
   "name": "python3"
  },
  "language_info": {
   "codemirror_mode": {
    "name": "ipython",
    "version": 3
   },
   "file_extension": ".py",
   "mimetype": "text/x-python",
   "name": "python",
   "nbconvert_exporter": "python",
   "pygments_lexer": "ipython3",
   "version": "3.11.6"
  }
 },
 "nbformat": 4,
 "nbformat_minor": 2
}
