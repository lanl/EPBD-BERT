{
 "cells": [
  {
   "cell_type": "code",
   "execution_count": 4,
   "metadata": {},
   "outputs": [],
   "source": [
    "import os\n",
    "import gzip\n",
    "import pyfastx\n",
    "home_dir=\"../\""
   ]
  },
  {
   "cell_type": "code",
   "execution_count": 2,
   "metadata": {},
   "outputs": [
    {
     "data": {
      "text/plain": [
       "<Fasta> ../data/downloads/hg19_latest/hg19.fa.gz contains 298 sequences"
      ]
     },
     "execution_count": 2,
     "metadata": {},
     "output_type": "execute_result"
    }
   ],
   "source": [
    "human_genome_filepath = home_dir+\"data/downloads/hg19_latest/hg19.fa.gz\"\n",
    "fa = pyfastx.Fasta(human_genome_filepath)\n",
    "fa"
   ]
  },
  {
   "cell_type": "code",
   "execution_count": 5,
   "metadata": {},
   "outputs": [],
   "source": [
    "# this block takes more that 2 hours\n",
    "os.makedirs(home_dir+\"data/pydnaepbd_things/seqs/\", exist_ok=True)\n",
    "f_out = open(home_dir+\"data/pydnaepbd_things/seqs/id_seqs.txt\", \"w\") # data/pydnaepbd_things/seqs_small/id_seqs.txt\n",
    "\n",
    "with gzip.open(home_dir+\"data/processed/peaks_with_labels_clean.tsv.gz\", 'rt') as f:\n",
    "    i=0\n",
    "    for line in f:\n",
    "        # print(line)\n",
    "            \n",
    "        chrom, start, end, n_labels, labels = line.split(sep=\"\\t\")\n",
    "        start = int(start.strip())\n",
    "        end = int(end.strip())\n",
    "\n",
    "        seq = fa[chrom][start:end].seq\n",
    "        seq = seq.upper()\n",
    "\n",
    "        f_out.write(f\"{chrom}_{str(start)}_{str(end)} {seq}\\n\")\n",
    "        \n",
    "        i+=1\n",
    "        # if i==10: break\n",
    "        # if i%10000==0: \n",
    "        #     print(i)\n",
    "\n",
    "f_out.close()"
   ]
  }
 ],
 "metadata": {
  "kernelspec": {
   "display_name": "Python 3",
   "language": "python",
   "name": "python3"
  },
  "language_info": {
   "codemirror_mode": {
    "name": "ipython",
    "version": 3
   },
   "file_extension": ".py",
   "mimetype": "text/x-python",
   "name": "python",
   "nbconvert_exporter": "python",
   "pygments_lexer": "ipython3",
   "version": "3.11.6"
  },
  "orig_nbformat": 4
 },
 "nbformat": 4,
 "nbformat_minor": 2
}
