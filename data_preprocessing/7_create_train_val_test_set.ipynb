{
 "cells": [
  {
   "cell_type": "code",
   "execution_count": 1,
   "metadata": {},
   "outputs": [],
   "source": [
    "import pandas as pd\n",
    "home_dir=\"../\""
   ]
  },
  {
   "cell_type": "code",
   "execution_count": 2,
   "metadata": {},
   "outputs": [
    {
     "name": "stdout",
     "output_type": "stream",
     "text": [
      "(1903669, 5)\n"
     ]
    },
    {
     "data": {
      "text/html": [
       "<div>\n",
       "<style scoped>\n",
       "    .dataframe tbody tr th:only-of-type {\n",
       "        vertical-align: middle;\n",
       "    }\n",
       "\n",
       "    .dataframe tbody tr th {\n",
       "        vertical-align: top;\n",
       "    }\n",
       "\n",
       "    .dataframe thead th {\n",
       "        text-align: right;\n",
       "    }\n",
       "</style>\n",
       "<table border=\"1\" class=\"dataframe\">\n",
       "  <thead>\n",
       "    <tr style=\"text-align: right;\">\n",
       "      <th></th>\n",
       "      <th>chrom</th>\n",
       "      <th>start</th>\n",
       "      <th>end</th>\n",
       "      <th>n_labels</th>\n",
       "      <th>labels</th>\n",
       "    </tr>\n",
       "  </thead>\n",
       "  <tbody>\n",
       "    <tr>\n",
       "      <th>0</th>\n",
       "      <td>chr1</td>\n",
       "      <td>10000</td>\n",
       "      <td>10200</td>\n",
       "      <td>1</td>\n",
       "      <td>wgEncodeAwgTfbsHaibK562Zbtb33Pcr1xUniPk</td>\n",
       "    </tr>\n",
       "    <tr>\n",
       "      <th>1</th>\n",
       "      <td>chr1</td>\n",
       "      <td>10200</td>\n",
       "      <td>10400</td>\n",
       "      <td>2</td>\n",
       "      <td>wgEncodeAwgTfbsSydhH1hescCebpbIggrabUniPk, wgE...</td>\n",
       "    </tr>\n",
       "    <tr>\n",
       "      <th>2</th>\n",
       "      <td>chr1</td>\n",
       "      <td>16200</td>\n",
       "      <td>16400</td>\n",
       "      <td>7</td>\n",
       "      <td>wgEncodeAwgTfbsUtaMcf7CtcfSerumstimUniPk, wgEn...</td>\n",
       "    </tr>\n",
       "    <tr>\n",
       "      <th>3</th>\n",
       "      <td>chr1</td>\n",
       "      <td>29200</td>\n",
       "      <td>29400</td>\n",
       "      <td>2</td>\n",
       "      <td>wgEncodeAwgTfbsHaibHepg2GabpPcr2xUniPk, wgEnco...</td>\n",
       "    </tr>\n",
       "    <tr>\n",
       "      <th>4</th>\n",
       "      <td>chr1</td>\n",
       "      <td>29400</td>\n",
       "      <td>29600</td>\n",
       "      <td>2</td>\n",
       "      <td>wgEncodeAwgTfbsHaibHepg2GabpPcr2xUniPk, wgEnco...</td>\n",
       "    </tr>\n",
       "    <tr>\n",
       "      <th>...</th>\n",
       "      <td>...</td>\n",
       "      <td>...</td>\n",
       "      <td>...</td>\n",
       "      <td>...</td>\n",
       "      <td>...</td>\n",
       "    </tr>\n",
       "    <tr>\n",
       "      <th>1903664</th>\n",
       "      <td>chrX</td>\n",
       "      <td>155258400</td>\n",
       "      <td>155258600</td>\n",
       "      <td>4</td>\n",
       "      <td>wgEncodeAwgTfbsBroadH1hescCtcfUniPk, wgEncodeA...</td>\n",
       "    </tr>\n",
       "    <tr>\n",
       "      <th>1903665</th>\n",
       "      <td>chrX</td>\n",
       "      <td>155259600</td>\n",
       "      <td>155259800</td>\n",
       "      <td>5</td>\n",
       "      <td>wgEncodeAwgTfbsHaibHepg2Sp1Pcr1xUniPk, wgEncod...</td>\n",
       "    </tr>\n",
       "    <tr>\n",
       "      <th>1903666</th>\n",
       "      <td>chrX</td>\n",
       "      <td>155259800</td>\n",
       "      <td>155260000</td>\n",
       "      <td>9</td>\n",
       "      <td>wgEncodeAwgTfbsHaibH1hescPol24h8V0416102UniPk,...</td>\n",
       "    </tr>\n",
       "    <tr>\n",
       "      <th>1903667</th>\n",
       "      <td>chrX</td>\n",
       "      <td>155260000</td>\n",
       "      <td>155260200</td>\n",
       "      <td>5</td>\n",
       "      <td>wgEncodeAwgTfbsHaibGm12891Pol24h8Pcr1xUniPk, w...</td>\n",
       "    </tr>\n",
       "    <tr>\n",
       "      <th>1903668</th>\n",
       "      <td>chrX</td>\n",
       "      <td>155260200</td>\n",
       "      <td>155260400</td>\n",
       "      <td>6</td>\n",
       "      <td>wgEncodeAwgTfbsHaibSknshPol24h8V0416101UniPk, ...</td>\n",
       "    </tr>\n",
       "  </tbody>\n",
       "</table>\n",
       "<p>1903669 rows × 5 columns</p>\n",
       "</div>"
      ],
      "text/plain": [
       "        chrom      start        end  n_labels  \\\n",
       "0        chr1      10000      10200         1   \n",
       "1        chr1      10200      10400         2   \n",
       "2        chr1      16200      16400         7   \n",
       "3        chr1      29200      29400         2   \n",
       "4        chr1      29400      29600         2   \n",
       "...       ...        ...        ...       ...   \n",
       "1903664  chrX  155258400  155258600         4   \n",
       "1903665  chrX  155259600  155259800         5   \n",
       "1903666  chrX  155259800  155260000         9   \n",
       "1903667  chrX  155260000  155260200         5   \n",
       "1903668  chrX  155260200  155260400         6   \n",
       "\n",
       "                                                    labels  \n",
       "0                  wgEncodeAwgTfbsHaibK562Zbtb33Pcr1xUniPk  \n",
       "1        wgEncodeAwgTfbsSydhH1hescCebpbIggrabUniPk, wgE...  \n",
       "2        wgEncodeAwgTfbsUtaMcf7CtcfSerumstimUniPk, wgEn...  \n",
       "3        wgEncodeAwgTfbsHaibHepg2GabpPcr2xUniPk, wgEnco...  \n",
       "4        wgEncodeAwgTfbsHaibHepg2GabpPcr2xUniPk, wgEnco...  \n",
       "...                                                    ...  \n",
       "1903664  wgEncodeAwgTfbsBroadH1hescCtcfUniPk, wgEncodeA...  \n",
       "1903665  wgEncodeAwgTfbsHaibHepg2Sp1Pcr1xUniPk, wgEncod...  \n",
       "1903666  wgEncodeAwgTfbsHaibH1hescPol24h8V0416102UniPk,...  \n",
       "1903667  wgEncodeAwgTfbsHaibGm12891Pol24h8Pcr1xUniPk, w...  \n",
       "1903668  wgEncodeAwgTfbsHaibSknshPol24h8V0416101UniPk, ...  \n",
       "\n",
       "[1903669 rows x 5 columns]"
      ]
     },
     "execution_count": 2,
     "metadata": {},
     "output_type": "execute_result"
    }
   ],
   "source": [
    "col_names = [\"chrom\", \"start\", \"end\", \"n_labels\", \"labels\"]\n",
    "peaks_df = pd.read_csv(home_dir+\"data/processed/peaks_with_labels_clean.tsv.gz\", compression=\"gzip\", sep=\"\\t\", names=col_names)\n",
    "print(peaks_df.shape)\n",
    "peaks_df"
   ]
  },
  {
   "cell_type": "code",
   "execution_count": 5,
   "metadata": {},
   "outputs": [
    {
     "data": {
      "text/plain": [
       "chrom\n",
       "chr1     176919\n",
       "chr10     90139\n",
       "chr11     91220\n",
       "chr12     92319\n",
       "chr13     51228\n",
       "chr14     59575\n",
       "chr15     58610\n",
       "chr16     63715\n",
       "chr17     79648\n",
       "chr18     41801\n",
       "chr19     58184\n",
       "chr2     159233\n",
       "chr20     59056\n",
       "chr21     24342\n",
       "chr22     36789\n",
       "chr3     122122\n",
       "chr4      91894\n",
       "chr5     109640\n",
       "chr6     120304\n",
       "chr7     101892\n",
       "chr8      87688\n",
       "chr9      77633\n",
       "chrX      49718\n",
       "Name: count, dtype: int64"
      ]
     },
     "execution_count": 5,
     "metadata": {},
     "output_type": "execute_result"
    }
   ],
   "source": [
    "peaks_df[\"chrom\"].value_counts().sort_index()"
   ]
  },
  {
   "cell_type": "code",
   "execution_count": 3,
   "metadata": {},
   "outputs": [
    {
     "name": "stdout",
     "output_type": "stream",
     "text": [
      "(165321, 5) (101892, 5) (1636456, 5)\n"
     ]
    }
   ],
   "source": [
    "# chrom 8 and 9 are for test, chrom 7 for val and others are for train\n",
    "peaks_test_df = peaks_df[(peaks_df[\"chrom\"]==\"chr8\") | (peaks_df[\"chrom\"]==\"chr9\")]\n",
    "peaks_val_df = peaks_df[peaks_df[\"chrom\"]==\"chr7\"]\n",
    "peaks_train_df = peaks_df[(peaks_df[\"chrom\"]!=\"chr7\") & (peaks_df[\"chrom\"]!=\"chr8\") & (peaks_df[\"chrom\"]!=\"chr9\")]\n",
    "print(peaks_test_df.shape, peaks_val_df.shape, peaks_train_df.shape)"
   ]
  },
  {
   "cell_type": "code",
   "execution_count": 13,
   "metadata": {},
   "outputs": [
    {
     "data": {
      "text/plain": [
       "690"
      ]
     },
     "execution_count": 13,
     "metadata": {},
     "output_type": "execute_result"
    }
   ],
   "source": [
    "labels_set = set()\n",
    "def update_labels_set(labels):\n",
    "    x = set([label.strip() for label in labels.split(\",\")])\n",
    "    labels_set.update(x)\n",
    "    # print(labels_set)\n",
    "    # raise\n",
    "\n",
    "# for the train, val and test set, all 690 labels are found    \n",
    "peaks_test_df[\"labels\"].apply(update_labels_set)\n",
    "# peaks_val_df[\"labels\"].apply(update_labels_set)\n",
    "# peaks_train_df[\"labels\"].apply(update_labels_set)\n",
    "\n",
    "len(labels_set)"
   ]
  },
  {
   "cell_type": "code",
   "execution_count": 6,
   "metadata": {},
   "outputs": [
    {
     "name": "stdout",
     "output_type": "stream",
     "text": [
      "(165321, 5) (101892, 5) (1636456, 5)\n"
     ]
    }
   ],
   "source": [
    "# saving train, val and test set\n",
    "peaks_test_df.to_csv(home_dir+\"data/train_val_test/peaks_with_labels_test.tsv.gz\", compression=\"gzip\", sep=\"\\t\", index=False, header=True)\n",
    "peaks_val_df.to_csv(home_dir+\"data/train_val_test/peaks_with_labels_val.tsv.gz\", compression=\"gzip\", sep=\"\\t\", index=False, header=True)\n",
    "peaks_train_df.to_csv(home_dir+\"data/train_val_test/peaks_with_labels_train.tsv.gz\", compression=\"gzip\", sep=\"\\t\", index=False, header=True)"
   ]
  }
 ],
 "metadata": {
  "kernelspec": {
   "display_name": "Python 3",
   "language": "python",
   "name": "python3"
  },
  "language_info": {
   "codemirror_mode": {
    "name": "ipython",
    "version": 3
   },
   "file_extension": ".py",
   "mimetype": "text/x-python",
   "name": "python",
   "nbconvert_exporter": "python",
   "pygments_lexer": "ipython3",
   "version": "3.11.5"
  },
  "orig_nbformat": 4
 },
 "nbformat": 4,
 "nbformat_minor": 2
}
