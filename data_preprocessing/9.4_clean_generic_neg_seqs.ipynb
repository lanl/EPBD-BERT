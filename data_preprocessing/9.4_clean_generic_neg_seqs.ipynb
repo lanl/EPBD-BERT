{
 "cells": [
  {
   "cell_type": "code",
   "execution_count": 1,
   "metadata": {},
   "outputs": [],
   "source": [
    "import gzip\n",
    "import pyfastx\n",
    "home_dir=\"../\""
   ]
  },
  {
   "cell_type": "code",
   "execution_count": 2,
   "metadata": {},
   "outputs": [
    {
     "data": {
      "text/plain": [
       "<Fasta> ../data/downloads/hg19_latest/hg19.fa.gz contains 298 sequences"
      ]
     },
     "execution_count": 2,
     "metadata": {},
     "output_type": "execute_result"
    }
   ],
   "source": [
    "human_genome_filepath = home_dir+\"data/downloads/hg19_latest/hg19.fa.gz\"\n",
    "fa = pyfastx.Fasta(human_genome_filepath)\n",
    "fa"
   ]
  },
  {
   "cell_type": "code",
   "execution_count": 4,
   "metadata": {},
   "outputs": [
    {
     "name": "stdout",
     "output_type": "stream",
     "text": [
      "10000\n",
      "20000\n",
      "30000\n",
      "40000\n",
      "50000\n",
      "60000\n",
      "70000\n",
      "80000\n",
      "90000\n",
      "100000\n",
      "110000\n",
      "120000\n",
      "130000\n",
      "140000\n",
      "150000\n",
      "160000\n"
     ]
    }
   ],
   "source": [
    "flank_size=400\n",
    "seq_dict = {} # {key: chr_start_end, value: seq}\n",
    "with gzip.open(home_dir+\"data/processed/generic_negative_regions_clean.tsv.gz\", 'rt') as f:\n",
    "    i=0\n",
    "    for line in f:\n",
    "        chrom, start, end = line.split(sep=\"\\t\")\n",
    "        start = int(start.strip())\n",
    "        end = int(end.strip())\n",
    "\n",
    "        seq = fa[chrom][start-flank_size:end+flank_size].seq\n",
    "        seq = seq.upper()\n",
    "        # print(len(seq))\n",
    "        seq_dict[f\"{chrom}_{str(start)}_{str(end)}\"] = seq\n",
    "        \n",
    "        i+=1\n",
    "        if i==165321: break # num of test seq\n",
    "        if i%10000==0: \n",
    "            print(i)"
   ]
  },
  {
   "cell_type": "code",
   "execution_count": 5,
   "metadata": {},
   "outputs": [
    {
     "data": {
      "text/plain": [
       "165321"
      ]
     },
     "execution_count": 5,
     "metadata": {},
     "output_type": "execute_result"
    }
   ],
   "source": [
    "len(seq_dict)"
   ]
  },
  {
   "cell_type": "code",
   "execution_count": 6,
   "metadata": {},
   "outputs": [],
   "source": [
    "import pickle\n",
    "with open(home_dir+\"data/processed/seq_neg_with_flanks_dict.pkl\", \"wb\") as f:\n",
    "    pickle.dump(seq_dict, f)"
   ]
  }
 ],
 "metadata": {
  "kernelspec": {
   "display_name": "Python 3",
   "language": "python",
   "name": "python3"
  },
  "language_info": {
   "codemirror_mode": {
    "name": "ipython",
    "version": 3
   },
   "file_extension": ".py",
   "mimetype": "text/x-python",
   "name": "python",
   "nbconvert_exporter": "python",
   "pygments_lexer": "ipython3",
   "version": "3.11.6"
  }
 },
 "nbformat": 4,
 "nbformat_minor": 2
}
